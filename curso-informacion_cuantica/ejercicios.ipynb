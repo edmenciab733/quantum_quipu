{
  "nbformat": 4,
  "nbformat_minor": 0,
  "metadata": {
    "colab": {
      "provenance": [],
      "authorship_tag": "ABX9TyM1++oki0jW4SiqUrKvZJcZ",
      "include_colab_link": true
    },
    "kernelspec": {
      "name": "python3",
      "display_name": "Python 3"
    },
    "language_info": {
      "name": "python"
    }
  },
  "cells": [
    {
      "cell_type": "markdown",
      "metadata": {
        "id": "view-in-github",
        "colab_type": "text"
      },
      "source": [
        "<a href=\"https://colab.research.google.com/github/edmenciab733/quantum_quipu/blob/main/curso-informacion_cuantica/ejercicios.ipynb\" target=\"_parent\"><img src=\"https://colab.research.google.com/assets/colab-badge.svg\" alt=\"Open In Colab\"/></a>"
      ]
    },
    {
      "cell_type": "code",
      "execution_count": null,
      "metadata": {
        "id": "Ur2kIJpPnr6s"
      },
      "outputs": [],
      "source": []
    },
    {
      "cell_type": "markdown",
      "source": [
        "# Ejercicio 1\n"
      ],
      "metadata": {
        "id": "7HYaRfETyHWf"
      }
    },
    {
      "cell_type": "markdown",
      "source": [
        "a) Sea $ A = A\\dagger  $  para cualquier operador ( $ A $ ) hermitiano, se puede comprobar que  $\\lambda$ es un numero real de la siguiente forma.\n",
        "\n",
        "$ A|x\\rangle = \\lambda|x\\rangle $ y  $ A^\\dagger\\langle x| = \\bar{\\lambda}\\langle x| $\n",
        "\n",
        "Entonces se puede escribir $  \\lambda|x\\rangle = \\bar{\\lambda}|x\\rangle  $ y atendiendo que  realizar el producto interno entre si mismo se representa como  $  \\langle x|x\\rangle = 1 $\n",
        "\n",
        "\n",
        "Considerando la propiedad hermitica  de:\n",
        "\n",
        "$$ \\langle Ax, x \\rangle = \\langle x, Ax \\rangle $$ y reemplazando al operador $A$  por sus valores propios $$ \\langle \\lambda x, x \\rangle = \\langle x, \\lambda x \\rangle $$\n",
        "\n",
        "\n",
        "Podemos hallar $ \\lambda $ aplicando  $$  \\lambda\\langle x|x\\rangle =  \\bar{\\lambda}\\langle x|x\\rangle  $$  o lo que es igual: $$\\lambda =  \\bar{\\lambda} $$\n",
        "\n",
        " Este resultado acota solo a los numeros reales, pues cualquier valor en el campo Complejo(C) para $ \\lambda $ equivaldría a que el cambio de signo en el  en la parte imaginaria (conjugado de un número complejo) haga que la ecuación no se cumpla.\n",
        "\n",
        "--------------\n",
        "\n",
        "Para comprobar que ambos son los vectores propios de una operador hermitico son ortogonales, consideremos los siguientes vectores $ |v\\rangle $  y $ |w\\rangle $ por la igualdad $ A = A\\dagger  $ podemos representar ambos vectores como: $$ A|w\\rangle = \\mu|w\\rangle $$  $$ A|v\\rangle = \\lambda|v\\rangle $$\n",
        "\n",
        "Considerando la propiedad hermitica  de:\n",
        "\n",
        "$$ \\langle Av, w \\rangle = \\langle v, Aw \\rangle $$ y reemplazando al operador $A$  por sus valores propios $$ \\langle \\lambda v, w \\rangle = \\langle v, \\mu w \\rangle $$\n",
        "\n",
        "Recordar que para que dos vectores sean ortogonales debe ser  $  \\langle v|w\\rangle = 0 $, si tenemos en cuenta la propiedad hermitiana de $A$ y aplicamos el autovector a ambos vectores a ambos lados de la ecuación:\n",
        "\n",
        "\n",
        " $$ \\lambda \\langle v, w \\rangle = \\mu \\langle v, w \\rangle $$\n",
        "\n",
        "\n",
        "Podemos concluir que para que esta igualdad se dé la única manerea es que el producto externo entre ambos sea $  \\langle v|w\\rangle = 0 $. Tener en cuenta que tienen que ser vectores no nulos. Considera que $ \\lambda \\neq μ $\n",
        "\n",
        "\n",
        "\n",
        "\n"
      ],
      "metadata": {
        "id": "DmraBMn2nv74"
      }
    }
  ]
}