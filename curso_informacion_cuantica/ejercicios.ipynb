{
  "nbformat": 4,
  "nbformat_minor": 0,
  "metadata": {
    "colab": {
      "provenance": [],
      "authorship_tag": "ABX9TyMnDYt4VpbynYSiZ/jCZdRP",
      "include_colab_link": true
    },
    "kernelspec": {
      "name": "python3",
      "display_name": "Python 3"
    },
    "language_info": {
      "name": "python"
    }
  },
  "cells": [
    {
      "cell_type": "markdown",
      "metadata": {
        "id": "view-in-github",
        "colab_type": "text"
      },
      "source": [
        "<a href=\"https://colab.research.google.com/github/edmenciab733/quantum_quipu/blob/main/curso_informacion_cuantica/ejercicios.ipynb\" target=\"_parent\"><img src=\"https://colab.research.google.com/assets/colab-badge.svg\" alt=\"Open In Colab\"/></a>"
      ]
    },
    {
      "cell_type": "markdown",
      "source": [
        "# Curso de Información Cuántica\n"
      ],
      "metadata": {
        "id": "vbOW1e5l52Jk"
      }
    },
    {
      "cell_type": "markdown",
      "source": [
        "## Ejercicio 1\n"
      ],
      "metadata": {
        "id": "7HYaRfETyHWf"
      }
    },
    {
      "cell_type": "markdown",
      "source": [
        "a) Sea $ A = A^\\dagger  $  para cualquier operador ( $ A $ ) hermitiano, se puede comprobar que  $\\lambda$ es un numero real de la siguiente forma.\n",
        "\n",
        "$ A|x\\rangle = \\lambda|x\\rangle $ y  $ A^\\dagger\\langle x| = \\bar{\\lambda}\\langle x| $\n",
        "\n",
        "Entonces se puede escribir $  \\lambda|x\\rangle = \\bar{\\lambda}|x\\rangle  $ y atendiendo que  realizar el producto interno entre si mismo se representa como  $  \\langle x|x\\rangle = 1 $\n",
        "\n",
        "\n",
        "Considerando la propiedad hermitica  de:\n",
        "\n",
        "$$ \\langle Ax, x \\rangle = \\langle x, Ax \\rangle $$ y reemplazando al operador $A$  por sus valores propios $$ \\langle \\lambda x, x \\rangle = \\langle x, \\lambda x \\rangle $$\n",
        "\n",
        "\n",
        "Podemos hallar $ \\lambda $ aplicando  $$  \\lambda\\langle x|x\\rangle =  \\bar{\\lambda}\\langle x|x\\rangle  $$  o lo que es igual: $$\\lambda =  \\bar{\\lambda} $$\n",
        "\n",
        " Este resultado acota solo a los numeros reales, pues cualquier valor en el campo Complejo(C) para $ \\lambda $ equivaldría a que el cambio de signo en la parte imaginaria (conjugado de un número complejo) haga que la ecuación no se cumpla.\n",
        "\n",
        "--------------\n",
        "\n",
        "Para comprobar que ambos son los vectores propios de una operador hermitico son ortogonales, consideremos los siguientes vectores $ |v\\rangle $  y $ |w\\rangle $ por la igualdad $ A = A\\dagger  $ podemos representar ambos vectores como: $$ A|w\\rangle = \\mu|w\\rangle $$  $$ A|v\\rangle = \\lambda|v\\rangle $$\n",
        "\n",
        "Considerando la propiedad hermitica  de:\n",
        "\n",
        "$$ \\langle Av, w \\rangle = \\langle v, Aw \\rangle $$ y reemplazando al operador $A$  por sus valores propios $$ \\langle \\lambda v, w \\rangle = \\langle v, \\mu w \\rangle $$\n",
        "\n",
        "Recordar que para que dos vectores sean ortogonales debe ser  $  \\langle v|w\\rangle = 0 $, si tenemos en cuenta la propiedad hermitiana de $A$ y aplicamos el autovector en ambos lados de la ecuación:\n",
        "\n",
        "\n",
        " $$ \\lambda \\langle v, w \\rangle = \\mu \\langle v, w \\rangle $$\n",
        "\n",
        "\n",
        "Podemos concluir que para que esta igualdad se dé la única manerea es que el producto externo entre ambos sea $  \\langle v|w\\rangle = 0 $. Tener en cuenta que tienen que ser vectores no nulos. Considera que $ \\lambda \\neq μ $\n",
        "\n",
        "\n",
        "\n",
        "\n"
      ],
      "metadata": {
        "id": "DmraBMn2nv74"
      }
    },
    {
      "cell_type": "markdown",
      "source": [
        "b)\n",
        "\n",
        "- Demostrar que $$(A + B)^\\dagger  = A^\\dagger + B^\\dagger $$\n",
        "Teniendo en cuenta que la suma de matrices se realiza sumando cada elemento de $A$ con $B$. Y, si los elementos de están dados por $ A = (v_{ij}) $ y $B = (w_{ij}) $ la suma de las matrices es igual a $ A + B = v_{ij} + w_{ij} $\n",
        "\n",
        "Esto se puede demostrar con: $ v_{ij} = (a_1 + b_1i)  $ y $ w_{ij} = (a_2 + b_2i) $\n",
        "\n",
        "Si aplicamos la suma de $ v_{ij} + w_{ij} = (a_1 + b_1i) + ( a_2 + b_2i) $\n",
        "\n",
        "Podemos expresar de la siguiente manera: $z_1 = (a_1 + b_1i) $ y $ z_2 = ( a_2 + b_2i) $\n",
        "\n",
        "$$\\overline{z_1} + \\overline{z_2} = (a_1 - b_1i) + ( a_2 - b_2i) $$\n",
        "\n",
        "$$ (a_1 + a_2) - (b_1 + b_2)i $$\n",
        "\n",
        "y\n",
        "\n",
        "$$ \\overline{z_1 + z_2}  = \\overline{(a_1 + b_1i) + ( a_2 + b_2i)} $$\n",
        "\n",
        "$$ (a_1 + a_2) - (b_1 + b_2)i $$\n",
        "\n",
        "\n",
        "\n",
        "Bajo este principio de la suma podemos concluir que sumar operadores y luego aplicar la adjunta no cambia si primero generamos la matriz adjunta.\n",
        "\n",
        "- Demostrar que  $$(AB)^\\dagger  = B^\\dagger A^\\dagger $$\n",
        "\n",
        "\n",
        "Suponiendo que tenemos dos vectores\n",
        "\n",
        " $$ A = \\begin{matrix}\n",
        "a & b \\\\\n",
        "c & d\n",
        "\\end{matrix} $$\n",
        "\n",
        "y\n",
        "\n",
        " $$ B = \\begin{matrix}\n",
        "e & f \\\\\n",
        "g & h\n",
        "\\end{matrix} $$\n",
        "\n",
        "Si aplicamos la multiplicación:\n",
        "\n",
        " $$ AB = \\begin{matrix}\n",
        "ae + bg & ce + dg \\\\\n",
        "af + bh & cf + dh\n",
        "\\end{matrix} $$\n",
        "\n",
        "y luego la conjugada compleja, obtenemos el resultado de $ (AB)\\dagger $\n",
        "\n",
        " $$ (AB)^\\dagger = \\overline {AB} = \\overline {\\begin{matrix}\n",
        "ae + bg & ce + dg \\\\\n",
        "af + bh & cf + dh\n",
        "\\end{matrix}} = \\begin{matrix}\n",
        "\\overline{ae + bg} & \\overline{ce + dg} \\\\\n",
        "\\overline{af + bh} & \\overline{cf + dh}\n",
        "\\end{matrix} $$\n",
        "\n",
        "\n",
        "\n",
        "Ahora comprobemos:  $ B^\\dagger A^\\dagger $\n",
        "\n",
        "Primero aplicamos la transpuesta a cada matriz de forma independiente\n",
        " $$ A^T = \\begin{matrix}\n",
        "a & c \\\\\n",
        "b & d\n",
        "\\end{matrix} $$\n",
        "\n",
        "\n",
        " $$ B^T = \\begin{matrix}\n",
        "e & g \\\\\n",
        "f & h\n",
        "\\end{matrix} $$\n",
        "\n",
        "\n",
        "Multiplicamos ambas matrices: $B^T A^T $\n",
        "\n",
        "\n",
        "$$ \\begin{matrix}\n",
        "{ae + bg} & {ce + gd} \\\\\n",
        "{af + bh} & {cf + dh}\n",
        "\\end{matrix} $$\n",
        "\n",
        "\n",
        "y luego la conjugada compleja, obtenemos el resultado de $B\\dagger A\\dagger $\n",
        "\n",
        "$$\n",
        "\\begin{matrix}\n",
        "\\overline{ae + bg} & \\overline{ce + dg} \\\\\n",
        "\\overline{af + bh} & \\overline{cf + dh}\n",
        "\\end{matrix} $$\n",
        "\n",
        "\n",
        "\n",
        "\n",
        "\n",
        "\n",
        "\n",
        "\n",
        "\n",
        "\n",
        "\n"
      ],
      "metadata": {
        "id": "JLycJSUX7yKt"
      }
    },
    {
      "cell_type": "markdown",
      "source": [
        "c) Demostrar que $ (A^\\dagger)^\\dagger = A$\n",
        "\n",
        " $$ A = \\begin{matrix}\n",
        "a & b \\\\\n",
        "c & d\n",
        "\\end{matrix} $$\n",
        "\n",
        "Aplicar la transpuesta\n",
        "\n",
        " $$ A^T = \\begin{matrix}\n",
        "a & c \\\\\n",
        "b & d\n",
        "\\end{matrix} $$\n",
        "\n",
        "y aplicamos el complejo conjugado\n",
        "\n",
        "$$ A^\\dagger = \\overline{A^T} = \\begin{matrix}\n",
        "\\overline{a} & \\overline{c} \\\\\n",
        "\\overline{b} & \\overline{d}\n",
        "\\end{matrix} $$\n",
        "\n",
        "Ahora aplicamos\n",
        "\n",
        "$$ (A^\\dagger)^T = \\begin{pmatrix} \\overline{a} & \\overline{b} \\\\ \\overline{c} & \\overline{d} \\end{pmatrix} $$\n",
        "\n",
        "\n",
        "Y finalmente aplicamos $ \\overline{(A^\\dagger)} $\n",
        "$$ \\overline{(A^\\dagger)} = \\begin{pmatrix}\n",
        "a & b \\\\\n",
        "c & d\n",
        "\\end{pmatrix} $$\n",
        "\n",
        "\n"
      ],
      "metadata": {
        "id": "H7B38Cbn-G1e"
      }
    }
  ]
}