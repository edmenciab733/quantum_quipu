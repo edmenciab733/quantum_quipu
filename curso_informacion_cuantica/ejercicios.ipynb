{
  "nbformat": 4,
  "nbformat_minor": 0,
  "metadata": {
    "colab": {
      "provenance": [],
      "authorship_tag": "ABX9TyM4gdG84HT9IKEgOpfmPabZ",
      "include_colab_link": true
    },
    "kernelspec": {
      "name": "python3",
      "display_name": "Python 3"
    },
    "language_info": {
      "name": "python"
    }
  },
  "cells": [
    {
      "cell_type": "markdown",
      "metadata": {
        "id": "view-in-github",
        "colab_type": "text"
      },
      "source": [
        "<a href=\"https://colab.research.google.com/github/edmenciab733/quantum_quipu/blob/main/curso_informacion_cuantica/ejercicios.ipynb\" target=\"_parent\"><img src=\"https://colab.research.google.com/assets/colab-badge.svg\" alt=\"Open In Colab\"/></a>"
      ]
    },
    {
      "cell_type": "markdown",
      "source": [
        "# Curso de Información Cuántica\n"
      ],
      "metadata": {
        "id": "vbOW1e5l52Jk"
      }
    },
    {
      "cell_type": "markdown",
      "source": [
        "## Ejercicio 1\n"
      ],
      "metadata": {
        "id": "7HYaRfETyHWf"
      }
    },
    {
      "cell_type": "markdown",
      "source": [
        "**1.1)**\n",
        "\n",
        "Sea $ A = A^\\dagger  $  para cualquier operador ( $ A $ ) hermitiano, se puede comprobar que  $\\lambda$ es un numero real de la siguiente forma.\n",
        "\n",
        "$ A|x\\rangle = \\lambda|x\\rangle $ y  $ A^\\dagger\\langle x| = \\bar{\\lambda}\\langle x| $\n",
        "\n",
        "Entonces se puede escribir $  \\lambda|x\\rangle = \\bar{\\lambda}|x\\rangle  $ y atendiendo que  realizar el producto interno entre si mismo se representa como  $  \\langle x|x\\rangle = 1 $\n",
        "\n",
        "\n",
        "Considerando la propiedad hermitica  de:\n",
        "\n",
        "$$ \\langle Ax, x \\rangle = \\langle x, Ax \\rangle $$ y reemplazando al operador $A$  por sus valores propios $$ \\langle \\lambda x, x \\rangle = \\langle x, \\lambda x \\rangle $$\n",
        "\n",
        "\n",
        "Podemos hallar $ \\lambda $ aplicando  $$  \\lambda\\langle x|x\\rangle =  \\bar{\\lambda}\\langle x|x\\rangle  $$  o lo que es igual: $$\\lambda =  \\bar{\\lambda} $$\n",
        "\n",
        " Este resultado acota solo a los numeros reales, pues cualquier valor en el campo Complejo(C) para $ \\lambda $ equivaldría a que el cambio de signo en la parte imaginaria (conjugado de un número complejo) haga que la ecuación no se cumpla.\n",
        "\n",
        "--------------\n",
        "\n",
        "Para comprobar que ambos son los vectores propios de una operador hermitico son ortogonales, consideremos los siguientes vectores $ |v\\rangle $  y $ |w\\rangle $ por la igualdad $ A = A\\dagger  $ podemos representar ambos vectores como: $$ A|w\\rangle = \\mu|w\\rangle $$  $$ A|v\\rangle = \\lambda|v\\rangle $$\n",
        "\n",
        "Considerando la propiedad hermitica  de:\n",
        "\n",
        "$$ \\langle Av, w \\rangle = \\langle v, Aw \\rangle $$ y reemplazando al operador $A$  por sus valores propios $$ \\langle \\lambda v, w \\rangle = \\langle v, \\mu w \\rangle $$\n",
        "\n",
        "Recordar que para que dos vectores sean ortogonales debe ser  $  \\langle v|w\\rangle = 0 $, si tenemos en cuenta la propiedad hermitiana de $A$ y aplicamos el autovector en ambos lados de la ecuación:\n",
        "\n",
        "\n",
        " $$ \\lambda \\langle v, w \\rangle = \\mu \\langle v, w \\rangle $$\n",
        "\n",
        "\n",
        "Podemos concluir que para que esta igualdad se dé la única manera es que el producto externo entre ambos sea $  \\langle v|w\\rangle = 0 $. Tener en cuenta que tienen que ser vectores no nulos. Considera que $ \\lambda \\neq μ $\n",
        "\n",
        "\n",
        "\n",
        "\n"
      ],
      "metadata": {
        "id": "DmraBMn2nv74"
      }
    },
    {
      "cell_type": "markdown",
      "source": [
        "**1.2)**\n",
        "\n",
        "\n",
        "- Demostrar que $$(A + B)^\\dagger  = A^\\dagger + B^\\dagger $$\n",
        "Teniendo en cuenta que la suma de matrices se realiza sumando cada elemento de $A$ con $B$. Y, si los elementos de están dados por $ A = (v_{ij}) $ y $B = (w_{ij}) $ la suma de las matrices es igual a $ A + B = v_{ij} + w_{ij} $\n",
        "\n",
        "Esto se puede demostrar con: $ v_{ij} = (a_1 + b_1i)  $ y $ w_{ij} = (a_2 + b_2i) $\n",
        "\n",
        "Si aplicamos la suma de $ v_{ij} + w_{ij} = (a_1 + b_1i) + ( a_2 + b_2i) $\n",
        "\n",
        "Podemos expresar de la siguiente manera: $z_1 = (a_1 + b_1i) $ y $ z_2 = ( a_2 + b_2i) $\n",
        "\n",
        "$$\\overline{z_1} + \\overline{z_2} = (a_1 - b_1i) + ( a_2 - b_2i) $$\n",
        "\n",
        "$$ (a_1 + a_2) - (b_1 + b_2)i $$\n",
        "\n",
        "y\n",
        "\n",
        "$$ \\overline{z_1 + z_2}  = \\overline{(a_1 + b_1i) + ( a_2 + b_2i)} $$\n",
        "\n",
        "$$ (a_1 + a_2) - (b_1 + b_2)i $$\n",
        "\n",
        "\n",
        "\n",
        "Bajo este principio de la suma podemos concluir que sumar operadores y luego aplicar la adjunta no cambia si primero generamos la matriz adjunta.\n",
        "\n",
        "- Demostrar que  $$(AB)^\\dagger  = B^\\dagger A^\\dagger $$\n",
        "\n",
        "\n",
        "Suponiendo que tenemos dos vectores\n",
        "\n",
        " $$ A = \\begin{matrix}\n",
        "a & b \\\\\n",
        "c & d\n",
        "\\end{matrix} $$\n",
        "\n",
        "y\n",
        "\n",
        " $$ B = \\begin{matrix}\n",
        "e & f \\\\\n",
        "g & h\n",
        "\\end{matrix} $$\n",
        "\n",
        "Si aplicamos la multiplicación:\n",
        "\n",
        " $$ AB = \\begin{matrix}\n",
        "ae + bg & ce + dg \\\\\n",
        "af + bh & cf + dh\n",
        "\\end{matrix} $$\n",
        "\n",
        "y luego la conjugada compleja, obtenemos el resultado de $ (AB)\\dagger $\n",
        "\n",
        " $$ (AB)^\\dagger = \\overline {AB} = \\overline {\\begin{matrix}\n",
        "ae + bg & ce + dg \\\\\n",
        "af + bh & cf + dh\n",
        "\\end{matrix}} = \\begin{matrix}\n",
        "\\overline{ae + bg} & \\overline{ce + dg} \\\\\n",
        "\\overline{af + bh} & \\overline{cf + dh}\n",
        "\\end{matrix} $$\n",
        "\n",
        "\n",
        "\n",
        "Ahora comprobemos:  $ B^\\dagger A^\\dagger $\n",
        "\n",
        "Primero aplicamos la transpuesta a cada matriz de forma independiente\n",
        " $$ A^T = \\begin{matrix}\n",
        "a & c \\\\\n",
        "b & d\n",
        "\\end{matrix} $$\n",
        "\n",
        "\n",
        " $$ B^T = \\begin{matrix}\n",
        "e & g \\\\\n",
        "f & h\n",
        "\\end{matrix} $$\n",
        "\n",
        "\n",
        "Multiplicamos ambas matrices: $B^T A^T $\n",
        "\n",
        "\n",
        "$$ \\begin{matrix}\n",
        "{ae + bg} & {ce + gd} \\\\\n",
        "{af + bh} & {cf + dh}\n",
        "\\end{matrix} $$\n",
        "\n",
        "\n",
        "y luego la conjugada compleja, obtenemos el resultado de $B\\dagger A\\dagger $\n",
        "\n",
        "$$\n",
        "\\begin{matrix}\n",
        "\\overline{ae + bg} & \\overline{ce + dg} \\\\\n",
        "\\overline{af + bh} & \\overline{cf + dh}\n",
        "\\end{matrix} $$\n",
        "\n",
        "\n",
        "- Demostrar que $ (A^\\dagger)^\\dagger = A$\n",
        "\n",
        " $$ A = \\begin{matrix}\n",
        "a & b \\\\\n",
        "c & d\n",
        "\\end{matrix} $$\n",
        "\n",
        "Aplicar la transpuesta\n",
        "\n",
        " $$ A^T = \\begin{matrix}\n",
        "a & c \\\\\n",
        "b & d\n",
        "\\end{matrix} $$\n",
        "\n",
        "y aplicamos el complejo conjugado\n",
        "\n",
        "$$ A^\\dagger = \\overline{A^T} = \\begin{matrix}\n",
        "\\overline{a} & \\overline{c} \\\\\n",
        "\\overline{b} & \\overline{d}\n",
        "\\end{matrix} $$\n",
        "\n",
        "Ahora aplicamos\n",
        "\n",
        "$$ (A^\\dagger)^T = \\begin{pmatrix} \\overline{a} & \\overline{b} \\\\ \\overline{c} & \\overline{d} \\end{pmatrix} $$\n",
        "\n",
        "\n",
        "Y finalmente aplicamos $ \\overline{(A^\\dagger)} $\n",
        "$$ \\overline{(A^\\dagger)} = \\begin{pmatrix}\n",
        "a & b \\\\\n",
        "c & d\n",
        "\\end{pmatrix} $$\n",
        "\n",
        "\n",
        "\n",
        "\n",
        "\n",
        "\n",
        "\n",
        "\n",
        "\n",
        "\n",
        "\n",
        "\n",
        "\n",
        "\n"
      ],
      "metadata": {
        "id": "JLycJSUX7yKt"
      }
    },
    {
      "cell_type": "markdown",
      "source": [
        "**1.3)**\n",
        "\n",
        "Demuestra el teorema de la diagonalización simultánea: Dos operadores hermíticos A y B conmutan si y solo si existe una base orto-normal respecto a la cual ambos A y B son diagonales.\n",
        "\n",
        "\n",
        "Diagonilización simultanea implica que para dos matrices, comparten valores propios y vectores propios.\n",
        "\n",
        "Teniendo $A^\\dagger = A $ y $ B^\\dagger = B $, si $A$ y $B$ conmutan y son del tipo $2x2$. Calculemos sus vectores y valores propios.\n",
        "\n",
        "En caso de que ambos coincidan por ejempo $v_1 = [a, b]^T$ y $v_2 =  [c, d]^T$ y sus valores propio son $\\lambda $ y $\\mu $ donde $\\lambda \\neq \\mu $\n",
        "\n",
        "Diagonalizar ambas matrices es hallar $P$ y $D$\n",
        "\n",
        "\n",
        " $$ P_{AB} = \\begin{matrix}\n",
        "a & c \\\\\n",
        "c & d\n",
        "\\end{matrix} $$\n",
        "\n",
        "y\n",
        "\n",
        " $$ D_{AB} = \\begin{matrix}\n",
        "\\lambda & 0 \\\\\n",
        "0 & \\mu\n",
        "\\end{matrix} $$\n",
        "\n",
        "\n"
      ],
      "metadata": {
        "id": "H7B38Cbn-G1e"
      }
    },
    {
      "cell_type": "markdown",
      "source": [
        "**1.4)**\n",
        "\n",
        "Considere las matrices\n",
        " $$ A  = \\begin{matrix}\n",
        "0 & 1 & 0 \\\\\n",
        "1 & 0 & 1\\\\\n",
        "0 & 1 & 0\n",
        "\\end{matrix} $$\n",
        "\n",
        "y\n",
        "\n",
        "\n",
        " $$ B  = \\begin{matrix}\n",
        "1 & 0 & 0 \\\\\n",
        "0 & 0 & 0\\\\\n",
        "0 & 0 & -1\n",
        "\\end{matrix} $$\n",
        "\n",
        "a) Encuentre los autovalores y autovectores de A y B. Denote los autovectores de A como {|a1 ⟩ , |a2 ⟩ , |a3 ⟩} y los autovectores de B como {|b1 ⟩ , |b2 ⟩ , |b3 ⟩}. ¿Hay autovalores degenerados?\n",
        "\n",
        "\n"
      ],
      "metadata": {
        "id": "dVo5d_6_ZgGU"
      }
    },
    {
      "cell_type": "markdown",
      "source": [
        "**1.5)**"
      ],
      "metadata": {
        "id": "awjJ7NokRMCO"
      }
    },
    {
      "cell_type": "code",
      "source": [
        "import numpy as np\n",
        "A = np.array([[0, 1, 0], [1, 0, 1], [0, 1,0]])\n",
        "B = np.array([[1, 0, 0], [0, 0, 0], [0, 0,-1]])"
      ],
      "metadata": {
        "id": "d7A8z8-2AkSR"
      },
      "execution_count": 1,
      "outputs": []
    },
    {
      "cell_type": "code",
      "source": [
        "autovalores_A, autovectores_A = np.linalg.eig(A)\n",
        "autovalores_B, autovectores_B = np.linalg.eig(B)\n"
      ],
      "metadata": {
        "colab": {
          "base_uri": "https://localhost:8080/"
        },
        "id": "1y12sOUIBKCM",
        "outputId": "a87e9b98-cfdb-4d8e-9470-d3b58500c7df"
      },
      "execution_count": 3,
      "outputs": [
        {
          "output_type": "execute_result",
          "data": {
            "text/plain": [
              "array([-1.41,  0.  ,  1.41])"
            ]
          },
          "metadata": {},
          "execution_count": 3
        }
      ]
    },
    {
      "cell_type": "markdown",
      "source": [
        "**a)**\n",
        "\n",
        "Encuentre los autovalores y autovectores de A y B. Denote los autovectores de A como\n",
        "{|a1 ⟩ , |a2 ⟩ , |a3 ⟩} y los autovectores de B como {|b1 ⟩ , |b2 ⟩ , |b3 ⟩}. ¿Hay autovalores degenerados?"
      ],
      "metadata": {
        "id": "UJpIECr07X8x"
      }
    },
    {
      "cell_type": "code",
      "source": [
        "print(list(np.round(autovalores_A, 2)))\n",
        "print(list(np.round(autovalores_B, 2)))"
      ],
      "metadata": {
        "colab": {
          "base_uri": "https://localhost:8080/"
        },
        "id": "6euBTLmZ7XL3",
        "outputId": "938ae43f-b965-4294-b05a-bcc5bd190480"
      },
      "execution_count": 7,
      "outputs": [
        {
          "output_type": "stream",
          "name": "stdout",
          "text": [
            "[-1.41, 0.0, 1.41]\n",
            "[1.0, 0.0, -1.0]\n"
          ]
        }
      ]
    },
    {
      "cell_type": "markdown",
      "source": [
        "Los autovalores degenerados, también conocidos como autovalores múltiples o repetidos, son aquellos autovalores de una matriz que tienen multiplicidad algebraica mayor que uno. En otras palabras, un autovalor degenerado es aquel que aparece más de una vez en la lista de autovalores de una matriz. Para la mecánica cuántica,  *Un autovalor degenerado indica que hay múltiples estados cuánticos distintos que tienen la misma energía.*\n",
        "\n",
        "En el caso de esta matriz $A$ y $B$ los vectores, no contiene ningun elemento repetido."
      ],
      "metadata": {
        "id": "oBob4TZV79gu"
      }
    },
    {
      "cell_type": "markdown",
      "source": [
        "**b**\n",
        "\n",
        "Muestre que cada uno de estos conjuntos forma una base completa, es decir, $⟨a_j|a_k⟩ = δ_{jk}$ y $ \\sum_{i=1}^{3} |a_i⟩⟨a_i| = I_3$.\n",
        "\n",
        "\n",
        "Para confirmar que estos dos conjuntos forma una base completa hay que revisar dos puntos, **la relación de completitud y la condición de ortonormalidad**"
      ],
      "metadata": {
        "id": "dJpM1s_R-1M8"
      }
    },
    {
      "cell_type": "code",
      "source": [
        "def completitud(autovectores):\n",
        "  sum_array = np.zeros((3, 3))\n",
        "  for i in autovectores:\n",
        "    ket = i.T\n",
        "    bra = i\n",
        "    sum_array = np.outer(ket, bra)  + sum_array\n",
        "  return np.round(sum_array, 3)\n",
        "\n",
        "completitud_A = completitud(autovectores_A)\n",
        "completitud_B = completitud(autovectores_B)"
      ],
      "metadata": {
        "id": "a9ni6WqMBVHm"
      },
      "execution_count": 9,
      "outputs": []
    },
    {
      "cell_type": "code",
      "source": [
        "print(completitud_A)"
      ],
      "metadata": {
        "colab": {
          "base_uri": "https://localhost:8080/"
        },
        "id": "mFMzyopGNY2a",
        "outputId": "445ac327-c0e2-4cbb-ffb5-778047b4420b"
      },
      "execution_count": 10,
      "outputs": [
        {
          "output_type": "stream",
          "name": "stdout",
          "text": [
            "[[ 1.  0. -0.]\n",
            " [ 0.  1.  0.]\n",
            " [-0.  0.  1.]]\n"
          ]
        }
      ]
    },
    {
      "cell_type": "code",
      "source": [
        "print(completitud_B)"
      ],
      "metadata": {
        "colab": {
          "base_uri": "https://localhost:8080/"
        },
        "id": "esErGoS_NgB6",
        "outputId": "63e7a3c0-03f1-49b0-da27-e136aefa6d31"
      },
      "execution_count": 11,
      "outputs": [
        {
          "output_type": "stream",
          "name": "stdout",
          "text": [
            "[[1. 0. 0.]\n",
            " [0. 1. 0.]\n",
            " [0. 0. 1.]]\n"
          ]
        }
      ]
    },
    {
      "cell_type": "markdown",
      "source": [
        "La **relación de completitud** en el contexto de la mecánica cuántica ($   \\sum_{i=1}^{3} |a_i⟩⟨a_i| = I_3  $) y la teoría de espacios de Hilbert. Esta relación establece que si tienes una serie de vectores de estado $ |a_i⟩ $\n",
        " ⟩ que forman una base ortonormal para un espacio de Hilbert de dimensión 3, entonces cualquier vector del espacio puede ser expresado como una combinación lineal de estos vectores de base.\n",
        "\n",
        "El término  es un proyector o operador de proyección sobre el estado $  |a_i⟩⟨a_i| $. La suma de todos estos proyectores sobre una base ortonormal da como resultado el operador identidad $ I $ del espacio de Hilbert tridimensional. Esto también se conoce como la descomposición espectral del operador identidad.\n",
        "\n",
        "En resumen, esta relación es una forma de expresar matemáticamente que un conjunto de vectores forma una base ortonormal completa para el espacio en el que viven."
      ],
      "metadata": {
        "id": "E04LMXduAk5o"
      }
    },
    {
      "cell_type": "markdown",
      "source": [
        "La expresión $⟨a_j|a_k⟩ = δ_{jk}$ se llama condición de ortonormalidad. En el contexto de la mecánica cuántica o en el espacio de Hilbert, esto expresa que los estados $⟨a_j|a_k⟩ $ son ortogonales entre sí si $ i ≠ j $ y además, cada estado es normalizado (es decir, tiene longitud o norma 1).\n",
        "\n",
        "La **ortogonalidad** se refiere a que el producto interno (o producto escalar) de dos vectores diferentes de la base es cero ($ i ≠ j $).\n",
        "La normalización se refiere a que el producto interno de un vector consigo mismo es uno ($ i = j $).\n",
        "Cuando ambos, ortogonalidad y normalización, se cumplen para una colección de vectores, decimos que estos vectores son ortonormales. En matrices, esta relación se traduce en que la matriz cuyas columnas son esos vectores es una matriz unitaria o matriz ortonormal. Esto significa que la matriz inversa es igual a su matriz adjunta (conjugada y transpuesta), lo que implica que multiplicar la matriz por su adjunta da la matriz identidad."
      ],
      "metadata": {
        "id": "QzWy6z2zBtMM"
      }
    },
    {
      "cell_type": "code",
      "source": [
        "def condicion_ortonormalidad(autovectores):\n",
        "  delta_kronecker = 0\n",
        "  for i, bra in enumerate(autovectores):\n",
        "    for j, ket in enumerate(autovectores):\n",
        "      ket = ket.T\n",
        "      if i != j:\n",
        "        delta_kronecker = delta_kronecker + np.dot(bra, ket)\n",
        "  return np.round(delta_kronecker, 3)\n",
        "ortonormalidad_A = condicion_ortonormalidad(autovectores_A)\n",
        "ortonormalidad_B = condicion_ortonormalidad(autovectores_B)\n",
        "print(ortonormalidad_A, ortonormalidad_B )"
      ],
      "metadata": {
        "colab": {
          "base_uri": "https://localhost:8080/"
        },
        "id": "0TRwuqYJOeRN",
        "outputId": "048ed8ca-6128-4193-9d1c-2b6378a92245"
      },
      "execution_count": 12,
      "outputs": [
        {
          "output_type": "stream",
          "name": "stdout",
          "text": [
            "-0.0 0.0\n"
          ]
        }
      ]
    }
  ]
}